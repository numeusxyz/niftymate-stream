{
 "cells": [
  {
   "cell_type": "markdown",
   "id": "c02a3d88",
   "metadata": {},
   "source": [
    "Import necessary libraries"
   ]
  },
  {
   "cell_type": "code",
   "execution_count": 1,
   "id": "88596b7d",
   "metadata": {},
   "outputs": [],
   "source": [
    "import requests"
   ]
  },
  {
   "cell_type": "markdown",
   "id": "9807c25e",
   "metadata": {},
   "source": [
    "Set `url` parameter to a link in Arweave."
   ]
  },
  {
   "cell_type": "code",
   "execution_count": 2,
   "id": "7128a1bb",
   "metadata": {},
   "outputs": [],
   "source": [
    "url = \"https://kfdlnzqejgpl2ojvjbso2kpzp6lsj2ertil4tzuosqkfeecfptcq.arweave.net/UUa25gRJnr05NUhk7Sn5f5ck6JGaF8nmjpQUUhBFfMU\""
   ]
  },
  {
   "cell_type": "markdown",
   "id": "07039eb2",
   "metadata": {},
   "source": [
    "Run the following code to get the data in the url and transform it."
   ]
  },
  {
   "cell_type": "code",
   "execution_count": 3,
   "id": "12f0d778",
   "metadata": {},
   "outputs": [],
   "source": [
    "r = requests.get(url)\n",
    "if r.status_code == 200:\n",
    "    data = {\n",
    "        collection_obj[\"collection_slug\"]: {\n",
    "            \"datetime\": collection_obj[\"datetime\"],\n",
    "            \"price_dictionary\": {\n",
    "                token_id: predicted_price\n",
    "                for token_id, predicted_price in zip(collection_obj[\"token_ids\"], collection_obj[\"predicted_prices\"])\n",
    "            }\n",
    "        }\n",
    "        for collection_obj in r.json()\n",
    "    }\n",
    "else:\n",
    "    print(r.json())"
   ]
  },
  {
   "cell_type": "markdown",
   "id": "4a7c264d",
   "metadata": {},
   "source": [
    "Price predictions are available for following collections."
   ]
  },
  {
   "cell_type": "code",
   "execution_count": 4,
   "id": "a4c6c25e",
   "metadata": {},
   "outputs": [
    {
     "name": "stdout",
     "output_type": "stream",
     "text": [
      "boredapeyachtclub\n",
      "cryptoadz-by-gremplin\n",
      "doge-pound-puppies-real\n",
      "doodles-official\n",
      "fluf-world\n",
      "mutantcats\n"
     ]
    }
   ],
   "source": [
    "print(\"\\n\".join(data.keys()))"
   ]
  },
  {
   "cell_type": "markdown",
   "id": "04b8c657",
   "metadata": {},
   "source": [
    "Set `collection_slug` and `token_id` parameters for the asset you are interested in."
   ]
  },
  {
   "cell_type": "code",
   "execution_count": 5,
   "id": "0e61b14e",
   "metadata": {},
   "outputs": [],
   "source": [
    "collection_slug = \"boredapeyachtclub\"\n",
    "token_id = 1000"
   ]
  },
  {
   "cell_type": "markdown",
   "id": "8e7af504",
   "metadata": {},
   "source": [
    "Run the following code to get price prediction."
   ]
  },
  {
   "cell_type": "code",
   "execution_count": 6,
   "id": "4a829b9e",
   "metadata": {},
   "outputs": [
    {
     "name": "stdout",
     "output_type": "stream",
     "text": [
      "Price prediction at 2021-12-02T13:10:02.520555 for asset with token id 1000 in boredapeyachtclub:\n",
      "49.89\n"
     ]
    }
   ],
   "source": [
    "if collection_slug not in data:\n",
    "    print(f\"No data for collection {collection_slug}\")\n",
    "if token_id not in data[collection_slug][\"price_dictionary\"]:\n",
    "    print(f\"No asset with token id {token_id} in collection {collection_slug}\")\n",
    "print(f\"Price prediction at {data[collection_slug]['datetime']} for asset with token id {token_id} in {collection_slug}:\\n{data[collection_slug]['price_dictionary'][token_id]}\")"
   ]
  },
  {
   "cell_type": "code",
   "execution_count": null,
   "id": "7e717f48",
   "metadata": {},
   "outputs": [],
   "source": []
  }
 ],
 "metadata": {
  "kernelspec": {
   "display_name": "Python 3 (ipykernel)",
   "language": "python",
   "name": "python3"
  },
  "language_info": {
   "codemirror_mode": {
    "name": "ipython",
    "version": 3
   },
   "file_extension": ".py",
   "mimetype": "text/x-python",
   "name": "python",
   "nbconvert_exporter": "python",
   "pygments_lexer": "ipython3",
   "version": "3.8.10"
  }
 },
 "nbformat": 4,
 "nbformat_minor": 5
}
